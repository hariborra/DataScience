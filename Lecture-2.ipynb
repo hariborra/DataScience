{
 "cells": [
  {
   "cell_type": "markdown",
   "metadata": {},
   "source": [
    "# <center>More on Data types</center>"
   ]
  },
  {
   "cell_type": "markdown",
   "metadata": {},
   "source": [
    "# Table of contents\n",
    "<br/>\n",
    "\n",
    "<a href = \"#14.-Lists\">1. Lists</a><br/>\n",
    "<a href = \"#15.-Tuples\">2. Tuples</a><br/>\n",
    "<a href = \"#16.-Sets\">3. Sets</a><br/>\n",
    "<a href = \"#17.-Dictionary\">4. Dictionary</a><br/>\n",
    "<a href = \"#18.-Strings\">5. Strings</a><br/>"
   ]
  },
  {
   "cell_type": "markdown",
   "metadata": {},
   "source": []
  },
  {
   "cell_type": "markdown",
   "metadata": {},
   "source": [
    "# 1. Lists"
   ]
  },
  {
   "cell_type": "markdown",
   "metadata": {},
   "source": [
    "Notes:\n",
    "\n",
    "<ul>\n",
    "    <li>In Python to represent a lists [ ] is used</li>\n",
    "    <li>Lists are ordered collection of items (Strings, integers or even other lists)</li>\n",
    "    <li>That means every item in a list has an assigned index value and by index we can access each element.</li>\n",
    "    <li>Index in list can be positive or negative. In positive index it access forward and negative it access in backward direction.</li>\n",
    "    <li>Each item in a list is separated by a comma</li>\n",
    "    <li>Lists are mutable, which means they can be changed.</li>\n",
    "</ul>"
   ]
  },
  {
   "cell_type": "markdown",
   "metadata": {
    "collapsed": true
   },
   "source": [
    "## 1.1 How to create a List"
   ]
  },
  {
   "cell_type": "code",
   "execution_count": null,
   "metadata": {},
   "outputs": [],
   "source": [
    "blankList = []                                      # Declare an empty List\n",
    "print('Blank list==> ',blankList)\n",
    "\n",
    "listOfString = ['apple','banana']                  # List of strings\n",
    "print('List of String==> ',listOfString)\n",
    "\n",
    "listOfNumbers = [12, 7.6,30,64]                   # List of integers\n",
    "print('List of Numbers==> ',listOfNumbers)\n",
    "\n",
    "listOfList = [[45, 3.2],[12, 4.2]]                  # List of lists\n",
    "print('List of list==> ',listOfList)\n",
    "\n",
    "listOfMixedDataTypes = [55.4, 'Bill', 232, 14.4]     # List of different datatypes\n",
    "\n",
    "print('List of Mixed data types==> ',listOfMixedDataTypes)"
   ]
  },
  {
   "cell_type": "markdown",
   "metadata": {},
   "source": [
    "## 1.2 Finding the Length of the List"
   ]
  },
  {
   "cell_type": "code",
   "execution_count": null,
   "metadata": {},
   "outputs": [],
   "source": [
    "print(len(listOfMixedDataTypes))                      # Use the len function"
   ]
  },
  {
   "cell_type": "markdown",
   "metadata": {},
   "source": [
    "## 1.3 Add an element to the end of the List - Append"
   ]
  },
  {
   "cell_type": "code",
   "execution_count": null,
   "metadata": {},
   "outputs": [],
   "source": [
    "listOfNumbers = [12, 7.6, 30, 64] \n",
    "\n",
    "listOfNumbers.append('Appended Element')             # append function will add the item at the end\n",
    "\n",
    "print(listOfNumbers)"
   ]
  },
  {
   "cell_type": "markdown",
   "metadata": {},
   "source": [
    "## 1.4  Insert an element at a particular position in the List"
   ]
  },
  {
   "cell_type": "code",
   "execution_count": null,
   "metadata": {},
   "outputs": [],
   "source": [
    "lstOfMixedDataTypes = [55.4, 'Bill', 232, 14.4]\n",
    "\n",
    "listOfMixedDataTypes.insert(2,'Gates')              # Will add 'Gates' at location 2\n",
    "\n",
    "print(listOfMixedDataTypes)              # Use the insert() method"
   ]
  },
  {
   "cell_type": "markdown",
   "metadata": {},
   "source": [
    "## 1.5 Remove an item from the List"
   ]
  },
  {
   "cell_type": "code",
   "execution_count": null,
   "metadata": {},
   "outputs": [],
   "source": [
    "lstOfMixedDataTypes = [55.4, 'Bill', 232, 14.4, 232]\n",
    "\n",
    "lstOfMixedDataTypes.remove(232)                   # remove() - removes the first occurence of 232 in the list\n",
    "\n",
    "print(lstOfMixedDataTypes)"
   ]
  },
  {
   "cell_type": "markdown",
   "metadata": {},
   "source": [
    "## 1.6 List in a List - Append vs Extend "
   ]
  },
  {
   "cell_type": "code",
   "execution_count": null,
   "metadata": {},
   "outputs": [],
   "source": [
    "lstOfMixedDataTypes = [55.4, 'Bill', 232, 14.4]\n",
    "\n",
    "listOfNumbers = [12, 7.6, 30, 64]\n",
    "\n",
    "lstOfMixedDataTypes.append(listOfNumbers)                 # Using the append() method\n",
    "\n",
    "print(lstOfMixedDataTypes)\n",
    "\n",
    "print(len(lstOfMixedDataTypes))"
   ]
  },
  {
   "cell_type": "code",
   "execution_count": null,
   "metadata": {},
   "outputs": [],
   "source": [
    "lstOfMixedDataTypes = [55.4, 'Bill', 232, 14.4]\n",
    "\n",
    "listOfNumbers = [12, 7.6, 30, 64]\n",
    "\n",
    "lstOfMixedDataTypes.extend(listOfNumbers)                 # Using the extend() method\n",
    "\n",
    "print(lstOfMixedDataTypes)\n",
    "\n",
    "print(len(lstOfMixedDataTypes))"
   ]
  },
  {
   "cell_type": "markdown",
   "metadata": {},
   "source": [
    "## 1.7 Delete an element in a List - del vs pop vs remove"
   ]
  },
  {
   "cell_type": "code",
   "execution_count": null,
   "metadata": {},
   "outputs": [],
   "source": [
    "lstOfMixedDataTypes = [55.4, 'Bill', 232, 14.4]\n",
    "\n",
    "#del lstOfMixedDataTypes[2]                     # Using del keyword - index\n",
    "#del lstOfMixedDataTypes[1:3]                  # Using del keyword\n",
    "print(lstOfMixedDataTypes)\n",
    "\n",
    "itemDeleted = lstOfMixedDataTypes.pop()        # Using pop function - index\n",
    "print(itemDeleted)\n",
    "\n",
    "itemDeleted = lstOfMixedDataTypes.pop(1)        # Using pop function - index\n",
    "print(itemDeleted)\n",
    "\n",
    "print(lstOfMixedDataTypes)"
   ]
  },
  {
   "cell_type": "code",
   "execution_count": null,
   "metadata": {},
   "outputs": [],
   "source": [
    "lstOfMixedDataTypes = [55.4, 'Bill', 232, 14.4]\n",
    "\n",
    "\n",
    "lstOfMixedDataTypes.remove(232)                 # Using remove function - value\n",
    "\n",
    "print(lstOfMixedDataTypes)"
   ]
  },
  {
   "cell_type": "markdown",
   "metadata": {},
   "source": [
    "## 1.8 Membership of List - in and not in"
   ]
  },
  {
   "cell_type": "code",
   "execution_count": null,
   "metadata": {},
   "outputs": [],
   "source": [
    "lstOfMixedDataTypes = [55.4, 'Bill', 232, 14.4]\n",
    "\n",
    "if 'Bill' in lstOfMixedDataTypes:\n",
    "    print('Found in list')\n",
    "    \n",
    "if 131 not in lstOfMixedDataTypes:\n",
    "    print('Not in the list')"
   ]
  },
  {
   "cell_type": "markdown",
   "metadata": {},
   "source": [
    "## 1.9 Reversing a list - reverse"
   ]
  },
  {
   "cell_type": "code",
   "execution_count": null,
   "metadata": {},
   "outputs": [],
   "source": [
    "lstOfMixedDataTypes = [55.4, 'Bill', 232, 14.4]\n",
    "\n",
    "print(lstOfMixedDataTypes)\n",
    "\n",
    "lstOfMixedDataTypes.reverse()\n",
    "\n",
    "print(lstOfMixedDataTypes)"
   ]
  },
  {
   "cell_type": "markdown",
   "metadata": {},
   "source": [
    "## 1.10 Sorting a list"
   ]
  },
  {
   "cell_type": "markdown",
   "metadata": {},
   "source": [
    "Sort a List is using sorted(list) function. \n",
    "\n",
    "The function returns a new list with the elements in ascending order. \n",
    "\n",
    "The original list is not changed. \n",
    "\n",
    "Use the optional argument reverse=True, e.g. sorted(yourList, reverse=True), \n",
    "makes it sort backwards."
   ]
  },
  {
   "cell_type": "code",
   "execution_count": null,
   "metadata": {},
   "outputs": [],
   "source": [
    "myList = [29, 12, 4, 7, 12]\n",
    "\n",
    "sorted_list = sorted(myList)\n",
    "#lstOfMixedDataTypes = [55.4, 'Bill', 232, 14.4]          # Sort only compatible types\n",
    "#sorted_lst = sorted(lstOfMixedDataTypes)\n",
    "\n",
    "print(sorted_list)\n",
    "\n",
    "print(myList)                          # Original list is unchanged"
   ]
  },
  {
   "cell_type": "code",
   "execution_count": null,
   "metadata": {},
   "outputs": [],
   "source": [
    "print(\"Reverse sorted list :\", sorted(myList, reverse=True))  # Reverse sort a list\n",
    "\n",
    "print(myList)                                                 # The orginal list remains unchanged"
   ]
  },
  {
   "cell_type": "code",
   "execution_count": null,
   "metadata": {},
   "outputs": [],
   "source": [
    "myList = [29, 12, 4, 7, 12]                       # Reverse and change the original list\n",
    "myList.sort()\n",
    "\n",
    "print(myList)"
   ]
  },
  {
   "cell_type": "markdown",
   "metadata": {},
   "source": [
    "## 1.11 Multiple References to a List"
   ]
  },
  {
   "cell_type": "code",
   "execution_count": null,
   "metadata": {},
   "outputs": [],
   "source": [
    "myList = [1, 2, 3, 4, 5]\n",
    "newRef = myList\n",
    "newRef.append(6)\n",
    "\n",
    "print('Original list: ', myList)"
   ]
  },
  {
   "cell_type": "markdown",
   "metadata": {},
   "source": [
    "## 1.12 Split a String to create a list"
   ]
  },
  {
   "cell_type": "code",
   "execution_count": null,
   "metadata": {
    "scrolled": true
   },
   "outputs": [],
   "source": [
    "myString = \"apple,banana,grapes\"\n",
    "splitList = myString.split(',')\n",
    "print(splitList)"
   ]
  },
  {
   "cell_type": "code",
   "execution_count": null,
   "metadata": {},
   "outputs": [],
   "source": [
    "myString = \"Let us split this string\"\n",
    "splitList = myString.split()                   # By default split is on - space or tab\n",
    "print(splitList)"
   ]
  },
  {
   "cell_type": "markdown",
   "metadata": {},
   "source": [
    "## 1.13 Indexing in a List"
   ]
  },
  {
   "cell_type": "markdown",
   "metadata": {},
   "source": [
    "Each item in the list has an assigned index value starting from 0.\n",
    "\n",
    "Accessing elements in a list is called indexing."
   ]
  },
  {
   "cell_type": "code",
   "execution_count": null,
   "metadata": {},
   "outputs": [],
   "source": [
    "myList = [29, 12, 4, 7, 12]\n",
    "\n",
    "print(myList[0])                       # Access the first element from start\n",
    "\n",
    "print(myList[-1])                      # Access the elements from the last"
   ]
  },
  {
   "cell_type": "markdown",
   "metadata": {},
   "source": [
    "## 1.14 List Slicing"
   ]
  },
  {
   "cell_type": "markdown",
   "metadata": {},
   "source": [
    "Accessing parts of segments is called slicing. \n",
    "\n",
    "Slicing is done using colon (**:**) symbol\n",
    "\n",
    "Start index:End Index\n",
    "\n",
    "Value at start index is included but not the value at end index."
   ]
  },
  {
   "cell_type": "code",
   "execution_count": null,
   "metadata": {},
   "outputs": [],
   "source": [
    "listOfItems = [43, 2, 'Hundred', 13, 'Four',12 ,100]\n",
    "\n",
    "print(listOfItems[:])                                # Empty indicates from start : to end\n",
    "\n",
    "print(listOfItems[0:3])                              # Elements from index 0 to one index less than index 3\n"
   ]
  },
  {
   "cell_type": "code",
   "execution_count": null,
   "metadata": {},
   "outputs": [],
   "source": [
    "print (listOfItems)\n",
    "\n",
    "print(listOfItems[::2])                                  # Stride for skipping elements\n",
    "\n",
    "print(listOfItems[2::2])                                 # print elemnts start from 0 through rest of the list\n"
   ]
  },
  {
   "cell_type": "markdown",
   "metadata": {},
   "source": [
    "## 1.15 Extend a List using \"+\""
   ]
  },
  {
   "cell_type": "code",
   "execution_count": null,
   "metadata": {},
   "outputs": [],
   "source": [
    "listOfItems1 = [43, 2, 'Hundred', 13, 'Four',12 ,100]\n",
    "listOfItems2 = ['Hello', 19, 'One', 11]\n",
    "joinedList = listOfItems1 + listOfItems2 \n",
    "\n",
    "print(joinedList)"
   ]
  },
  {
   "cell_type": "markdown",
   "metadata": {},
   "source": [
    "## 1.16 Count an item in a List"
   ]
  },
  {
   "cell_type": "code",
   "execution_count": null,
   "metadata": {},
   "outputs": [],
   "source": [
    "listOfItems3 = [12, 43, 2, 'Hundred', 13, 'Four',12 ,100]\n",
    "\n",
    "print(listOfItems3.count(12))                           # Count number of 12 in the list\n",
    "\n",
    "print(listOfItems3.count('Hundred'))                    # Count number of 'Hundred' in a list"
   ]
  },
  {
   "cell_type": "markdown",
   "metadata": {},
   "source": [
    "## 1.17 Looping in List "
   ]
  },
  {
   "cell_type": "code",
   "execution_count": null,
   "metadata": {},
   "outputs": [],
   "source": [
    "listOfItems3 = [12, 43, 2, 'Hundred', 13, 'Four',12 ,100]\n",
    "\n",
    "for element in listOfItems3:\n",
    "    print(element)"
   ]
  },
  {
   "cell_type": "markdown",
   "metadata": {},
   "source": [
    "## 1.18 List Comprehensions"
   ]
  },
  {
   "cell_type": "markdown",
   "metadata": {},
   "source": [
    "List comprehensions provide a concise way to create lists.<br/>\n",
    "This can be thought of a process that makes it easier to create lists.\n",
    "\n",
    "Common applications are to make new lists where each element is the result of some operations applied to each member of another sequence or iterable, or to create a subsequence of those elements that satisfy a certain condition."
   ]
  },
  {
   "cell_type": "code",
   "execution_count": null,
   "metadata": {},
   "outputs": [],
   "source": [
    "myList = []               # Normal way to create an empty List\n",
    "\n",
    "for i in range(4): # Append the squared element to the list\n",
    "    myList.append(i**2)\n",
    "print(myList)"
   ]
  },
  {
   "cell_type": "code",
   "execution_count": null,
   "metadata": {},
   "outputs": [],
   "source": [
    "# Simlify using list comprehension\n",
    "myList = [i**2 for i in range(4)]\n",
    "print(myList)"
   ]
  },
  {
   "cell_type": "markdown",
   "metadata": {},
   "source": [
    "## 1.19 Nested List Comprehensions"
   ]
  },
  {
   "cell_type": "code",
   "execution_count": null,
   "metadata": {},
   "outputs": [],
   "source": [
    "matrix = [[0, 1, 2],\n",
    "          [0, 1, 2],\n",
    "          [0, 1, 2],\n",
    "          [0, 1, 2]]\n",
    "\n",
    "sameList = []                         # Recreate the above matrix in the normal way\n",
    "for i in range(4):\n",
    "    rowList = []\n",
    "    for j in range(3):\n",
    "        rowList.append(j)\n",
    "    sameList.append(rowList)\n",
    "print(sameList)"
   ]
  },
  {
   "cell_type": "code",
   "execution_count": null,
   "metadata": {},
   "outputs": [],
   "source": [
    "myMatrix = []\n",
    "[myMatrix.append([j for j in range(3)]) for i in range(4)]       # Reconstruct the matrix using list comprehension\n",
    "print(myMatrix)"
   ]
  },
  {
   "cell_type": "markdown",
   "metadata": {
    "collapsed": true
   },
   "source": [
    "#### Excercise: Perform the below list operations"
   ]
  },
  {
   "cell_type": "code",
   "execution_count": null,
   "metadata": {},
   "outputs": [],
   "source": [
    "myList = [1, 2, 3, 4, 5, 6, 8]\n",
    "\n",
    "newList = [i**2 for i in myList]                                    # Square the values of myList and store in a new list\n",
    "print(newList)\n",
    "\n",
    "newList = [(i,i) for i in myList]                                   # Make a combination of x and x values e.g. (x,x)\n",
    "print(newList)\n",
    "\n",
    "newList = [even for even in myList if even%2 == 0 and even != 2]     # Store only the even numbers greater than 2\n",
    "print(newList)\n",
    "\n",
    "newList = []\n",
    "[newList.append([(i+j)/2 for j in range(0,3)]) for i in range(1,10,3)]    # Create a 3*3 matrix that stores half of number from 1 to 9\n",
    "\n",
    "print(newList)"
   ]
  },
  {
   "cell_type": "markdown",
   "metadata": {
    "collapsed": true
   },
   "source": [
    "<center> <h1>End of LIST section</h1> </center>"
   ]
  },
  {
   "cell_type": "markdown",
   "metadata": {},
   "source": [
    "# 2. Tuples"
   ]
  },
  {
   "cell_type": "markdown",
   "metadata": {},
   "source": [
    "A tuple is very similar to a list\n",
    "\n",
    "But tuples are immutable i.e. we can't change the elements of tuple once it is assigned <br/>\n",
    "whereas in a list, elements can be changed"
   ]
  },
  {
   "cell_type": "markdown",
   "metadata": {},
   "source": [
    "## 2.1 Creating a Tuple"
   ]
  },
  {
   "cell_type": "code",
   "execution_count": null,
   "metadata": {},
   "outputs": [],
   "source": [
    "emptyTuple = ()                      # Create an empty tuple\n",
    "\n",
    "myNmberTuple = (12.2, 100, 12)      # Create a tuple having numbers\n",
    "print(myNumberTuple)\n",
    "\n",
    "myMixedTuple = ('x', 'y', 100, 'h')  # Create a mixed data types tuple\n",
    "print(myMixedTuple)\n",
    "\n",
    "myNestedTuple = ('Hello', 100, ('Welcome', 12, 11), [90,'same',26,'array'])     # Create a nested tuple\n",
    "print(myNestedTuple)"
   ]
  },
  {
   "cell_type": "code",
   "execution_count": null,
   "metadata": {},
   "outputs": [],
   "source": [
    "isItTuple = ('Datascience')               # Only parenthesis is not enough\n",
    "print(type(isItTuple))"
   ]
  },
  {
   "cell_type": "code",
   "execution_count": null,
   "metadata": {},
   "outputs": [],
   "source": [
    "isItTuple = ('Datascience',)              # Put a comma at the end to denote Tuple\n",
    "print(type(isItTuple))"
   ]
  },
  {
   "cell_type": "code",
   "execution_count": null,
   "metadata": {},
   "outputs": [],
   "source": [
    "isItTuple = 'Datascience',                # Parenthesis is optional\n",
    "print(type(isItTuple))\n",
    "\n",
    "print(isItTuple)"
   ]
  },
  {
   "cell_type": "markdown",
   "metadata": {},
   "source": [
    "## 2.2 Accessing Elements in Tuple"
   ]
  },
  {
   "cell_type": "code",
   "execution_count": null,
   "metadata": {},
   "outputs": [],
   "source": [
    "myTuple = ('abc', 'def', 'ghi', 'jkl')\n",
    "\n",
    "print(myTuple[3])"
   ]
  },
  {
   "cell_type": "code",
   "execution_count": null,
   "metadata": {},
   "outputs": [],
   "source": [
    "print(myTuple[-1])                            # Printing the last element in a tuple - Negative index"
   ]
  },
  {
   "cell_type": "code",
   "execution_count": null,
   "metadata": {},
   "outputs": [],
   "source": [
    "myTuple = ('abc', ('def', 'ghi', 'jkl'))       # Nested tuple\n",
    "\n",
    "print(myTuple[1])"
   ]
  },
  {
   "cell_type": "code",
   "execution_count": null,
   "metadata": {},
   "outputs": [],
   "source": [
    "print(myTuple[1][2])"
   ]
  },
  {
   "cell_type": "code",
   "execution_count": null,
   "metadata": {},
   "outputs": [],
   "source": [
    "myTuple = (10,11,12,13,14,15)\n",
    "\n",
    "print(myTuple[2:5])                           # Slicing elements\n",
    "\n",
    "print(myTuple[-3:])                           # Print elements from starting to 3rd last elements\n",
    "\n",
    "print(myTuple[:])                             # Print all elements"
   ]
  },
  {
   "cell_type": "markdown",
   "metadata": {},
   "source": [
    "## 2.3 Altering the values in a Tuple"
   ]
  },
  {
   "cell_type": "markdown",
   "metadata": {},
   "source": [
    "#### Tuples are immutable i.e. once set their values cannot be changed\n",
    "#### But, if the element is itself a mutable datatype like list, its nested items can be changed."
   ]
  },
  {
   "cell_type": "code",
   "execution_count": null,
   "metadata": {},
   "outputs": [],
   "source": [
    "myTuple = (11, 22, 33, 44, [55, 66, 77])                       # Creating tuple\n",
    "\n",
    "myTuple[1] = 'x'                                               # Error: TypeError"
   ]
  },
  {
   "cell_type": "code",
   "execution_count": null,
   "metadata": {},
   "outputs": [],
   "source": [
    "print(id(myTuple))\n",
    "myTuple[4][2] = 'xyz'                       # List is mutable hence value can be altered\n",
    "print(id(myTuple))\n",
    "print(myTuple)"
   ]
  },
  {
   "cell_type": "code",
   "execution_count": null,
   "metadata": {},
   "outputs": [],
   "source": [
    "#concatinating tuples\n",
    "\n",
    "myTuple = (11, 22, 33) + (44, 55, 66)\n",
    "print(myTuple)"
   ]
  },
  {
   "cell_type": "code",
   "execution_count": null,
   "metadata": {},
   "outputs": [],
   "source": [
    "myTuple = (('abc', ) * 4)                     # Repeat items using * operator.\n",
    "print(myTuple)"
   ]
  },
  {
   "cell_type": "markdown",
   "metadata": {},
   "source": [
    "## 2.4 Deleting from a tuple "
   ]
  },
  {
   "cell_type": "code",
   "execution_count": null,
   "metadata": {},
   "outputs": [],
   "source": [
    "# Since tuple is immutable hence the entire tuple needs to be deleted using del keyword\n",
    "\n",
    "myTuple = (3, 'xyz', 45, 11, 'tree', 34)\n",
    "\n",
    "del myTuple                                      # Delete the entire tuple"
   ]
  },
  {
   "cell_type": "markdown",
   "metadata": {},
   "source": [
    "## 2.5 Count occurance of an item in Tuple"
   ]
  },
  {
   "cell_type": "code",
   "execution_count": null,
   "metadata": {},
   "outputs": [],
   "source": [
    "myTuple = ('abc', 244, 'abc', 412, 'tree', 28, 11, 2)\n",
    "\n",
    "myTuple.count('abc')     # Frequency of particular element in a tuple"
   ]
  },
  {
   "cell_type": "markdown",
   "metadata": {},
   "source": [
    "## 2.6 Tuple Index - Get the index position of an item"
   ]
  },
  {
   "cell_type": "code",
   "execution_count": null,
   "metadata": {},
   "outputs": [],
   "source": [
    "myTuple = ('abc', 244, 'abc', 412, 'tree', 28, 11, 2)\n",
    "\n",
    "print(myTuple.index(11))                  # Returns index of the first element equal to 11\n",
    "\n",
    "print(myTuple[6])                         # Print element at index 6"
   ]
  },
  {
   "cell_type": "markdown",
   "metadata": {},
   "source": [
    "## 2.7 Memebership in Tuple"
   ]
  },
  {
   "cell_type": "code",
   "execution_count": null,
   "metadata": {},
   "outputs": [],
   "source": [
    "myTuple = ('abc', 244, 'abc', 412, 'tree', 28, 11, 2)\n",
    "\n",
    "print(244 in myTuple)                                              # Check if an item exists in a tuple"
   ]
  },
  {
   "cell_type": "code",
   "execution_count": null,
   "metadata": {},
   "outputs": [],
   "source": [
    "print('xyz' in myTuple)"
   ]
  },
  {
   "cell_type": "markdown",
   "metadata": {},
   "source": [
    "## 2.8 Apply common built-in Functions on Tuple"
   ]
  },
  {
   "cell_type": "markdown",
   "metadata": {},
   "source": [
    "#### Lenght of a Tuple"
   ]
  },
  {
   "cell_type": "code",
   "execution_count": null,
   "metadata": {},
   "outputs": [],
   "source": [
    "myTuple = ('abc', 244, 'abc', 412, 'tree', 28, 11, 2)\n",
    "print(len(myTuple))"
   ]
  },
  {
   "cell_type": "markdown",
   "metadata": {},
   "source": [
    "#### Sorting in Tuple"
   ]
  },
  {
   "cell_type": "code",
   "execution_count": null,
   "metadata": {},
   "outputs": [],
   "source": [
    "#myTuple = ('abc', 244, 'abc', 412, 'tree', 28, 11, 2)\n",
    "myTuple = (12,3,44,245,0.2,33)\n",
    "print(myTuple)\n",
    "\n",
    "sortedTuple = sorted(myTuple)                       # Returns a new sorted list. Does not change original tuple\n",
    "print(sortedTuple)"
   ]
  },
  {
   "cell_type": "code",
   "execution_count": null,
   "metadata": {},
   "outputs": [],
   "source": [
    "myNumberTuple = (12,3,44,245,0.2,33)\n",
    "\n",
    "print(max(myNumberTuple))                           # Largest element in a tuple\n",
    "\n",
    "print(min(myNumberTuple))                           # Smallest element in a tuple"
   ]
  },
  {
   "cell_type": "code",
   "execution_count": null,
   "metadata": {},
   "outputs": [],
   "source": [
    "print(sum(myNumberTuple))                           # Sum of elments in the tuple"
   ]
  },
  {
   "cell_type": "markdown",
   "metadata": {},
   "source": [
    "# 3. Sets"
   ]
  },
  {
   "cell_type": "markdown",
   "metadata": {
    "collapsed": true
   },
   "source": [
    "<ul><li>A set is an <b>unordered</b> collection of items. Every element is <b>unique</b> (no duplicates).</li>\n",
    "<li>Set is <b>mutable</b>. We can add or remove items to a Set.</li>\n",
    "<li>Sets can be used to perform mathematical <b>set operations</b> <i>like union, intersection, symmetric difference etc</i>.</li></ul>"
   ]
  },
  {
   "cell_type": "markdown",
   "metadata": {},
   "source": [
    "## 3.1 Creating a Set\n"
   ]
  },
  {
   "cell_type": "code",
   "execution_count": null,
   "metadata": {},
   "outputs": [],
   "source": [
    "mySet = {1,2,3}                          # Curly braces and comma seperated values \n",
    "print(mySet)\n",
    " \n",
    "print(type(mySet))                         # type of mySet"
   ]
  },
  {
   "cell_type": "code",
   "execution_count": null,
   "metadata": {},
   "outputs": [],
   "source": [
    "mySet = {1,2,3,1,4}                    # Duplicates not allowed.\n",
    "print(mySet)"
   ]
  },
  {
   "cell_type": "code",
   "execution_count": null,
   "metadata": {},
   "outputs": [],
   "source": [
    "mySet = set([1,2,3,4,1])                  # We can make set from a list using set() method\n",
    "print(mySet)"
   ]
  },
  {
   "cell_type": "code",
   "execution_count": null,
   "metadata": {},
   "outputs": [],
   "source": [
    "mySet = set()                              # Initialize a set  with set() method\n",
    "print(type(mySet))"
   ]
  },
  {
   "cell_type": "markdown",
   "metadata": {},
   "source": [
    "## 3.2 Adding element to Set"
   ]
  },
  {
   "cell_type": "code",
   "execution_count": null,
   "metadata": {},
   "outputs": [],
   "source": [
    "mySet = {'a', 56}\n",
    "\n",
    "mySet.add(5)                           # Add single element using add() method\n",
    "print(mySet)\n",
    "\n",
    "mySet.update([2,'r',12])             # Add multiple elements using update() method\n",
    "print(mySet)\n",
    "\n",
    "print(mySet[3])                        # set object doesn't support duplicates hence indexing doesn't make sense"
   ]
  },
  {
   "cell_type": "code",
   "execution_count": null,
   "metadata": {},
   "outputs": [],
   "source": [
    "mySet.update([12,'One'],{4,1,5})     # Adding a list and a set to the original set\n",
    "print(mySet)"
   ]
  },
  {
   "cell_type": "markdown",
   "metadata": {},
   "source": [
    "## 3.3 Removing elements from a Set\n",
    "\n",
    "Methods\n",
    "\n",
    "- remove()    &nbsp;                     -Raises KeyError if  elem is not contained in the set.\n",
    "- discard()     &nbsp;                     -Doesn't raises KeyError\n",
    "<br/><br/>\n",
    "- pop()        &nbsp;&nbsp;&nbsp;&nbsp;&nbsp;&nbsp;&nbsp;                     -Removes a random item\n",
    "- clear()      &nbsp;&nbsp;&nbsp;&nbsp;&nbsp;                     -Delete the entire Set"
   ]
  },
  {
   "cell_type": "code",
   "execution_count": null,
   "metadata": {},
   "outputs": [],
   "source": [
    "mySet = {11, 12, 13, 14, 15}\n",
    "print(mySet)\n",
    "\n",
    "mySet.remove(13)                   # 13 is removed from set mySet\n",
    "print(mySet)\n",
    "\n",
    "\n",
    "mySet.discard(14)                    # 14 is removed from set mySet\n",
    "print(mySet)"
   ]
  },
  {
   "cell_type": "code",
   "execution_count": null,
   "metadata": {},
   "outputs": [],
   "source": [
    "mySet.remove(34)                        # KeyError thrown"
   ]
  },
  {
   "cell_type": "code",
   "execution_count": null,
   "metadata": {},
   "outputs": [],
   "source": [
    "mySet.discard(34)                       # KeyError NOT thrown\n",
    "print(mySet)"
   ]
  },
  {
   "cell_type": "code",
   "execution_count": null,
   "metadata": {},
   "outputs": [],
   "source": [
    "mySet = {'abc', 12, 'efg', 1, 11}\n",
    "\n",
    "mySet.pop()                             \n",
    "\n",
    "print(mySet)"
   ]
  },
  {
   "cell_type": "code",
   "execution_count": null,
   "metadata": {},
   "outputs": [],
   "source": [
    "mySet.pop()\n",
    "print(mySet)"
   ]
  },
  {
   "cell_type": "code",
   "execution_count": null,
   "metadata": {},
   "outputs": [],
   "source": [
    "mySet = {'abc', 12, 'efg', 1, 11}\n",
    "\n",
    "mySet.clear()                           # Empty all items in\n",
    "\n",
    "print(mySet)"
   ]
  },
  {
   "attachments": {},
   "cell_type": "markdown",
   "metadata": {},
   "source": [
    "## 3.4 Python Set Operations\n",
    "\n",
    "Operations:\n",
    "\n",
    "- union\n",
    "\n",
    "- intersection\n",
    "\n",
    "- symmetric difference\n",
    "\n",
    "- subset\n",
    "\n"
   ]
  },
  {
   "cell_type": "code",
   "execution_count": null,
   "metadata": {},
   "outputs": [],
   "source": [
    "mySet1 = {1, 2, 3, 4, 5}\n",
    "mySet2 = {3, 4, 5, 6, 7}\n",
    "\n",
    "print(mySet1 | mySet2)              # union of 2 sets using | operator\n",
    "\n",
    "print(mySet1.union(mySet2))         # Alternately use union() method"
   ]
  },
  {
   "cell_type": "code",
   "execution_count": null,
   "metadata": {},
   "outputs": [],
   "source": [
    "print(mySet1 & mySet2)              # Intersection of 2 sets using & operator\n",
    "\n",
    "print(mySet1.intersection(mySet2))  # Alternately use intersection() method "
   ]
  },
  {
   "cell_type": "code",
   "execution_count": null,
   "metadata": {},
   "outputs": [],
   "source": [
    "print(mySet1 - mySet2)              # set Difference: set of elements that are only in mySet1 but not in mySet2\n",
    "print(mySet1.difference(mySet2))    # use differnce() function method "
   ]
  },
  {
   "cell_type": "code",
   "execution_count": null,
   "metadata": {},
   "outputs": [],
   "source": [
    "# symmetric difference: set of elements in both mySet1 and mySet2\n",
    "# except those that are common in both.\"\"\"\n",
    "\n",
    "print(mySet1^mySet2)                       # For symmetric difference use ^ operator\n",
    "\n",
    "print(mySet1.symmetric_difference(mySet2)) # Alternately use symmetric_difference function"
   ]
  },
  {
   "cell_type": "code",
   "execution_count": null,
   "metadata": {},
   "outputs": [],
   "source": [
    "a = {1,2,3,4,5,6}\n",
    "b = {2,4}\n",
    "\n",
    "print(\"Is set 'a' a subset of set 'b' ? \", a.issubset(b))          # Check a is subset of b\n",
    "\n",
    "print(\"Is set 'b' a subset of set 'a' ? \", b.issubset(a))          # Check b is subset of a"
   ]
  },
  {
   "cell_type": "markdown",
   "metadata": {},
   "source": [
    "## 3.5 Frozen Sets\n"
   ]
  },
  {
   "cell_type": "markdown",
   "metadata": {},
   "source": [
    "Like tuples are immutable lists, <b>frozen sets</b> are <b>immutable sets</b>"
   ]
  },
  {
   "cell_type": "markdown",
   "metadata": {},
   "source": [
    "Frozensets can be created using - <b>frozenset()</b>"
   ]
  },
  {
   "cell_type": "markdown",
   "metadata": {},
   "source": [
    "Sets being mutable are unhashable, so they can't be used as dictionary keys.<br/> On the other hand, frozensets are hashable and can be used as keys to a dictionary."
   ]
  },
  {
   "cell_type": "markdown",
   "metadata": {},
   "source": [
    "This datatype supports methods like <b>copy(), difference(), intersection(), isdisjoint(), issubset(), issuperset(), symmetric_difference() and union()</b>. \n",
    "\n",
    "Being immutable it does <b>not</b> have method that add or remove elements."
   ]
  },
  {
   "cell_type": "code",
   "execution_count": null,
   "metadata": {},
   "outputs": [],
   "source": [
    "mySet1 = frozenset([1, 2, 3, 4, 5])\n",
    "mySet2 = frozenset([4, 5, 6, 7, 8])\n",
    "\n",
    "mySet1.add(9)                              # Cannot add value to immutable set"
   ]
  },
  {
   "cell_type": "code",
   "execution_count": null,
   "metadata": {},
   "outputs": [],
   "source": [
    "print(mySet1[4])                           # frozen set doesn't support indexing"
   ]
  },
  {
   "cell_type": "code",
   "execution_count": null,
   "metadata": {},
   "outputs": [],
   "source": [
    "print(mySet1 | mySet2)                    # union of 2 sets"
   ]
  },
  {
   "cell_type": "code",
   "execution_count": null,
   "metadata": {},
   "outputs": [],
   "source": [
    "print(mySet1 & mySet2)                    # intersection of two sets\n",
    "\n",
    "print(mySet1.intersection(mySet2))        # Alernative is to use intersection() method "
   ]
  },
  {
   "cell_type": "code",
   "execution_count": null,
   "metadata": {},
   "outputs": [],
   "source": [
    "print(mySet1 ^ mySet2)                        # symmetric difference\n",
    "\n",
    "print(mySet1.symmetric_difference(mySet2))    # Alternative is symmetric_difference() method"
   ]
  },
  {
   "cell_type": "markdown",
   "metadata": {},
   "source": [
    "# 4. Dictionary"
   ]
  },
  {
   "cell_type": "markdown",
   "metadata": {},
   "source": [
    "Python dictionary is an unordered collection of items.<br/>\n",
    "While other compound data types have <b>only value</b> as an element, a <u>dictionary</u> has a <b>key: value</b> pair."
   ]
  },
  {
   "cell_type": "markdown",
   "metadata": {},
   "source": [
    "### Create a Dictionary\n"
   ]
  },
  {
   "cell_type": "code",
   "execution_count": null,
   "metadata": {
    "scrolled": true
   },
   "outputs": [],
   "source": [
    "myDict = {}                                                  # Create an empty dictionary\n",
    "\n",
    "myIntegerKeyDict = {100:'excellent',50:'fair'}\n",
    "print(myIntegerKeyDict)\n",
    " \n",
    "myMixedKeysDict = {'name':'Rama', 10:['sun','star']}    # Create a dictionary with mixed keys\n",
    "print(myMixedKeysDict)\n",
    "\n",
    "\n",
    "myDict = dict()                                              # Create an empty dictionary using dict() method\n",
    "\n",
    "myDict = dict([(4,'abcd'),(2,'ab')])                      # Create a dict with list of tuples\n",
    "print(myDict)"
   ]
  },
  {
   "cell_type": "markdown",
   "metadata": {},
   "source": [
    "### Dict Access"
   ]
  },
  {
   "cell_type": "code",
   "execution_count": null,
   "metadata": {},
   "outputs": [],
   "source": [
    "myDict = {'name': 'Rama', 'marks': 92, 'hobby': 'guitar'}\n",
    "\n",
    "print(myDict['name'])                               # Pass the key to get the value"
   ]
  },
  {
   "cell_type": "code",
   "execution_count": null,
   "metadata": {},
   "outputs": [],
   "source": [
    "print(myDict['score'])                             # Gives KeyError if key not found"
   ]
  },
  {
   "cell_type": "code",
   "execution_count": null,
   "metadata": {},
   "outputs": [],
   "source": [
    "print(myDict.get('hobby'))                          # Alternately use get(key) to access the value"
   ]
  },
  {
   "cell_type": "code",
   "execution_count": null,
   "metadata": {},
   "outputs": [],
   "source": [
    "print(myDict.get('score'))                         # Gives None using get method if key not present"
   ]
  },
  {
   "cell_type": "markdown",
   "metadata": {},
   "source": [
    "### Add or Modify  Elements in a Dictionary\n"
   ]
  },
  {
   "cell_type": "code",
   "execution_count": null,
   "metadata": {},
   "outputs": [],
   "source": [
    "myDict = {'name': 'Rama', 'marks': 92, 'hobby': 'sings'}\n",
    "\n",
    "myDict['name'] = 'Laxman'                                      # Update the value in the key 'name' \n",
    " \n",
    "print(myDict)"
   ]
  },
  {
   "cell_type": "code",
   "execution_count": null,
   "metadata": {},
   "outputs": [],
   "source": [
    "myDict['division'] = 'A'                                       # Add new key-value pair\n",
    "\n",
    "print(myDict)"
   ]
  },
  {
   "cell_type": "markdown",
   "metadata": {},
   "source": [
    "### Delete or Remove Element in a Dictionary"
   ]
  },
  {
   "cell_type": "code",
   "execution_count": null,
   "metadata": {},
   "outputs": [],
   "source": [
    "myDict = {'name': 'Rama', 'marks': 92, 'hobby': 'cricket'}\n",
    "\n",
    "print(myDict.pop('marks'))                                     # Remove a particular item - pass the key to pop() method\n",
    "\n",
    "print(myDict)"
   ]
  },
  {
   "cell_type": "code",
   "execution_count": null,
   "metadata": {},
   "outputs": [],
   "source": [
    "keyValDict = {'name': 'laxman', 'marks': 92, 'hobby': 'travel'}\n",
    "\n",
    "del keyValDict['marks']                               # Delete particular key\n",
    "\n",
    "print(keyValDict)"
   ]
  },
  {
   "cell_type": "code",
   "execution_count": null,
   "metadata": {},
   "outputs": [],
   "source": [
    "keyValDict.clear()                              # Remove all items\n",
    "\n",
    "print(keyValDict)"
   ]
  },
  {
   "cell_type": "code",
   "execution_count": null,
   "metadata": {},
   "outputs": [],
   "source": [
    "keyValDict = {'name': 'Rama', 'marks': 92, 'hobby': 'cricket'}\n",
    "\n",
    "del keyValDict                                  # Delete dictionary itself\n",
    "\n",
    "print(keyValDict)                               # NameError because dict is deleted"
   ]
  },
  {
   "cell_type": "markdown",
   "metadata": {},
   "source": [
    "### Dictionary Methods"
   ]
  },
  {
   "cell_type": "code",
   "execution_count": null,
   "metadata": {},
   "outputs": [],
   "source": [
    "keyValDict = {'name': 'Rama', 'marks': 92, 'hobby': 'guitar'}\n",
    "\n",
    "myDict = keyValDict.copy()                                    # copy()\n",
    "print(myDict)"
   ]
  },
  {
   "cell_type": "code",
   "execution_count": null,
   "metadata": {},
   "outputs": [],
   "source": [
    "# fromkeys[seq[, v]] -> Return a new dictionary with keys from seq and value equal to v (defaults to None).\n",
    "fruits = {}.fromkeys(['apple','banana','grapes'],0)\n",
    "print(fruits)"
   ]
  },
  {
   "cell_type": "code",
   "execution_count": null,
   "metadata": {},
   "outputs": [],
   "source": [
    "varDict = {2:4, 3:9, 4:16, 5:25}\n",
    "print(varDict.items()) #return a new view of the dictionary items (key, value)"
   ]
  },
  {
   "cell_type": "code",
   "execution_count": null,
   "metadata": {},
   "outputs": [],
   "source": [
    "fruits = {'apple': 2, 'banana': 12, 'grapes': 10}\n",
    "\n",
    "print(fruits.keys())                                      # returns the dictionary keys\n",
    "\n",
    "print(fruits.values())                                    # returns the dictionary values"
   ]
  },
  {
   "cell_type": "code",
   "execution_count": null,
   "metadata": {},
   "outputs": [],
   "source": [
    "dict = {}\n",
    "print(dir(dict))                                          # Get list of all available methods and attributes of dictionary"
   ]
  },
  {
   "cell_type": "markdown",
   "metadata": {},
   "source": [
    "### Comprehension in Dictionary"
   ]
  },
  {
   "cell_type": "code",
   "execution_count": null,
   "metadata": {},
   "outputs": [],
   "source": [
    "fruits = {'apple': 2, 'banana': 12, 'grapes': 10}\n",
    "for fruit in fruits.items():                       # Same as list comprehensions but here its for dictionaries\n",
    "    print(fruit)    "
   ]
  },
  {
   "cell_type": "code",
   "execution_count": null,
   "metadata": {},
   "outputs": [],
   "source": [
    "fruits = {'apple': 3, 'banana': 12, 'grapes': 10}\n",
    "fruitsDict = {k:v for k, v in fruits.items() if v%2 == 0}    # Creating a new dictionary with only pairs where the value is even\n",
    "print(fruitsDict)"
   ]
  },
  {
   "cell_type": "code",
   "execution_count": null,
   "metadata": {},
   "outputs": [],
   "source": [
    "fruits = {'apple': 3, 'banana': 12, 'grapes': 10} \n",
    "\n",
    "fruitsDict = {k + '_royal':v * 12 for k, v in fruits.items() if v%2 == 0} # We can also perform operations on the key value pairs\n",
    "print(fruitsDict)\n",
    "print(fruits)"
   ]
  },
  {
   "cell_type": "markdown",
   "metadata": {},
   "source": [
    "# 5. Strings\n"
   ]
  },
  {
   "cell_type": "markdown",
   "metadata": {
    "collapsed": true
   },
   "source": [
    "A string is a <b>sequence of characters</b>.\n",
    "\n",
    "Computers do not deal with characters, they deal with numbers (binary). Even though you may see characters on your screen, internally it is stored and manipulated as a combination of 0's and 1's.\n",
    "\n",
    "This conversion of character to a number is called encoding, and the reverse process is decoding. <a href='https://docs.python.org/3.3/howto/unicode.html'>ASCII and Unicode</a> are some of the popular encoding used.\n",
    "\n",
    "In Python, string is a sequence of Unicode character."
   ]
  },
  {
   "cell_type": "markdown",
   "metadata": {},
   "source": [
    "### Create a String"
   ]
  },
  {
   "cell_type": "markdown",
   "metadata": {},
   "source": [
    "- By enclosing characters inside a single quote or double quotes. \n",
    "\n",
    "- triple quotes can be used in Python but generally used to represent multiline strings and docstrings.\n"
   ]
  },
  {
   "cell_type": "code",
   "execution_count": null,
   "metadata": {},
   "outputs": [],
   "source": [
    "myString = 'Single'\n",
    "print(myString)\n",
    "\n",
    "myString = \"Double\"\n",
    "print(myString)\n",
    "\n",
    "myString = '''Triple'''\n",
    "print(myString)"
   ]
  },
  {
   "cell_type": "markdown",
   "metadata": {},
   "source": [
    "### Access characters in a String"
   ]
  },
  {
   "cell_type": "markdown",
   "metadata": {
    "collapsed": true
   },
   "source": [
    "- Access individual characters using indexing and a range of characters using slicing.\n",
    "\n",
    "- Index starts from 0. \n",
    "\n",
    "- Trying to access a character out of index range will raise an IndexError. \n",
    "\n",
    "- The index must be an integer. We can't use float or other types, this will result into TypeError.\n",
    "\n",
    "- Python allows negative indexing for its sequences."
   ]
  },
  {
   "cell_type": "code",
   "execution_count": null,
   "metadata": {},
   "outputs": [],
   "source": [
    "myString = \"Double\"\n",
    "\n",
    "print(myString[0])             # Print first Character\n",
    "\n",
    "print(myString[1:4])           # Slicing 2nd to 4th character\n",
    "\n",
    "print(myString[-2])            # Print last character using negative indexing"
   ]
  },
  {
   "cell_type": "markdown",
   "metadata": {},
   "source": [
    "If we try to access index out of the range or use decimal number, we will get errors."
   ]
  },
  {
   "cell_type": "code",
   "execution_count": null,
   "metadata": {},
   "outputs": [],
   "source": [
    "print(myString[15])                    # Index should be in available range"
   ]
  },
  {
   "cell_type": "code",
   "execution_count": null,
   "metadata": {},
   "outputs": [],
   "source": [
    "print(myString[1.5])                   # Index should be integer always"
   ]
  },
  {
   "cell_type": "markdown",
   "metadata": {},
   "source": [
    "### Change or delete a String"
   ]
  },
  {
   "cell_type": "markdown",
   "metadata": {},
   "source": [
    "Strings are immutable. This means that elements of a string cannot be changed once it has been assigned. \n",
    "\n",
    "We can simply reassign different strings to the same name."
   ]
  },
  {
   "cell_type": "code",
   "execution_count": null,
   "metadata": {},
   "outputs": [],
   "source": [
    "myString = \"Double\"\n",
    "\n",
    "myString[0] = 't' # strings are immutable"
   ]
  },
  {
   "cell_type": "code",
   "execution_count": null,
   "metadata": {},
   "outputs": [],
   "source": [
    "del myString # delete complete string"
   ]
  },
  {
   "cell_type": "code",
   "execution_count": null,
   "metadata": {},
   "outputs": [],
   "source": [
    "print(myString)"
   ]
  },
  {
   "cell_type": "markdown",
   "metadata": {},
   "source": [
    "## String Operations"
   ]
  },
  {
   "cell_type": "markdown",
   "metadata": {},
   "source": [
    "### Concatenation"
   ]
  },
  {
   "cell_type": "markdown",
   "metadata": {},
   "source": [
    "Joining of two or more strings into a single one is called concatenation.\n",
    "\n",
    "- The <b>+</b> operator does this in Python. Simply writing two string literals together also concatenates them.\n",
    "\n",
    "- The <b>*</b> operator can be used to repeat the string for a given number of times."
   ]
  },
  {
   "cell_type": "code",
   "execution_count": null,
   "metadata": {},
   "outputs": [],
   "source": [
    "myString1 = \"Python \"\n",
    "myString2 = \"Programming\"\n",
    "\n",
    "print(myString1 + myString2)        # Concatenation of 2 strings  \n",
    "\n",
    "print(myString1 * 2)                # Repeat string n times"
   ]
  },
  {
   "cell_type": "code",
   "execution_count": null,
   "metadata": {},
   "outputs": [],
   "source": [
    "charCount = 0\n",
    "for character in \"Python Programming\":             # Iterating Through String\n",
    "    if character == 'P':\n",
    "        charCount += 1\n",
    "print('Character count of P is ', charCount)        "
   ]
  },
  {
   "cell_type": "markdown",
   "metadata": {},
   "source": [
    "### String Membership Test"
   ]
  },
  {
   "cell_type": "code",
   "execution_count": null,
   "metadata": {},
   "outputs": [],
   "source": [
    "print('m' in 'Python Programming')                  # in operator to test membership"
   ]
  },
  {
   "cell_type": "code",
   "execution_count": null,
   "metadata": {},
   "outputs": [],
   "source": [
    "print('ro' in 'Python Programming') "
   ]
  },
  {
   "cell_type": "markdown",
   "metadata": {},
   "source": [
    "### String Methods"
   ]
  },
  {
   "cell_type": "markdown",
   "metadata": {},
   "source": [
    "Some of the commonly used methods are<br/> \n",
    "<b>lower(), upper(), join(), split(), find(), replace() </b>etc"
   ]
  },
  {
   "cell_type": "code",
   "execution_count": null,
   "metadata": {},
   "outputs": [],
   "source": [
    "\"Python\".lower()                                                      # lower"
   ]
  },
  {
   "cell_type": "code",
   "execution_count": null,
   "metadata": {},
   "outputs": [],
   "source": [
    "\"Python\".upper()                                                      # upper"
   ]
  },
  {
   "cell_type": "code",
   "execution_count": null,
   "metadata": {},
   "outputs": [],
   "source": [
    "\"Split this line into a list\".split()                                 # split"
   ]
  },
  {
   "cell_type": "code",
   "execution_count": null,
   "metadata": {},
   "outputs": [],
   "source": [
    "' '.join(['Split', 'this', 'line', 'into', 'a', 'list'])              # join"
   ]
  },
  {
   "cell_type": "code",
   "execution_count": null,
   "metadata": {},
   "outputs": [],
   "source": [
    "\"Python Programming\".find('mm')                                       # find"
   ]
  },
  {
   "cell_type": "code",
   "execution_count": null,
   "metadata": {},
   "outputs": [],
   "source": [
    "myString1 = \"Python Programming\"\n",
    "\n",
    "myString2 = myString1.replace('Programming','Program')                # Replace a word\n",
    "\n",
    "print(myString1)\n",
    "print(myString2)"
   ]
  },
  {
   "cell_type": "markdown",
   "metadata": {},
   "source": [
    "# Python Program to Check where a String is Palindrome or not ?\n"
   ]
  },
  {
   "cell_type": "code",
   "execution_count": null,
   "metadata": {},
   "outputs": [],
   "source": [
    "#Excercise 1: Reverse a word\n",
    "\n",
    "originalWord = 'mAlayalam'\n",
    "reversedWord = ''\n",
    "for character in originalWord:\n",
    "    reversedWord = character + reversedWord\n",
    "print(reversedWord)\n",
    "\n",
    "#Excercise 2: Check if word is a palindrome?\n",
    "\n",
    "originalWord = originalWord.lower()\n",
    "reversedWord = reversedWord.lower()\n",
    "\n",
    "if originalWord == reversedWord:\n",
    "    print(\"Given string is a palindrome\")\n",
    "else:\n",
    "    print(\"Given string is NOT a palindrome\")\n",
    "    \n",
    "#Excercise 3: Sort sentences in Reverse alphabetic Order?\n",
    "\n",
    "myString = \"This is a how reverse sorting works\" \n",
    "\n",
    "words = myString.split()                         # Breakdown the string into list of words\n",
    "\n",
    "words.sort(reverse=True)                         # Reverse sort the list\n",
    "\n",
    "\n",
    "revString = ''                              # Concate the words into a sentence\n",
    "for word in words:\n",
    "    revString += word + ' '\n",
    "print(revString)"
   ]
  }
 ],
 "metadata": {
  "kernelspec": {
   "display_name": "Python 3",
   "language": "python",
   "name": "python3"
  },
  "language_info": {
   "codemirror_mode": {
    "name": "ipython",
    "version": 3
   },
   "file_extension": ".py",
   "mimetype": "text/x-python",
   "name": "python",
   "nbconvert_exporter": "python",
   "pygments_lexer": "ipython3",
   "version": "3.7.3"
  }
 },
 "nbformat": 4,
 "nbformat_minor": 2
}
