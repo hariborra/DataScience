{
  "nbformat": 4,
  "nbformat_minor": 0,
  "metadata": {
    "colab": {
      "name": "InterviewQuestion&Resources_DS/ML/AI/DL/RL.ipynb",
      "provenance": [],
      "include_colab_link": true
    },
    "kernelspec": {
      "name": "python3",
      "display_name": "Python 3"
    }
  },
  "cells": [
    {
      "cell_type": "markdown",
      "metadata": {
        "id": "view-in-github",
        "colab_type": "text"
      },
      "source": [
        "<a href=\"https://colab.research.google.com/github/narayantalk2u/DataScience/blob/master/InterviewQuestion%26Resources_DS_ML_AI_DL_RL.ipynb\" target=\"_parent\"><img src=\"https://colab.research.google.com/assets/colab-badge.svg\" alt=\"Open In Colab\"/></a>"
      ]
    },
    {
      "cell_type": "markdown",
      "metadata": {
        "id": "1N3DP_XEjj9b",
        "colab_type": "text"
      },
      "source": [
        "Structure: \n",
        "  - General Theory Question \n",
        "  - Case Study Question \n",
        "  - Code Questions \n",
        "    - General Python \n",
        "    - ML/DL\n",
        "  - Github Projects (For Portfolio) "
      ]
    },
    {
      "cell_type": "markdown",
      "metadata": {
        "id": "hB7_-3JjluvX",
        "colab_type": "text"
      },
      "source": [
        "#General Theory Question"
      ]
    },
    {
      "cell_type": "markdown",
      "metadata": {
        "id": "ljmfzQvRm7zO",
        "colab_type": "text"
      },
      "source": [
        "\n",
        "[25 Data Science Interview Questions—With Answers; Requires Email](https://www.springboard.com/resources/guides/25-data-science-interview-questions/)\n",
        "\n",
        "[25 Data Science Interview Questions—With Answers, PDF](https://ddf46429.springboard.com/uploads/resources/1565382056_25_Data_Science_Interview_Questions.pdf)\n",
        "\n",
        "[109 Data Science Interview Questions and Answers](https://www.springboard.com/blog/data-science-interview-questions/)\n",
        "\n",
        "[What We Learned Analyzing Hundreds of Data Science Interviews](https://www.springboard.com/blog/data-science-interviews-lessons/)\n",
        "\n",
        "[Top 100 Data science interview questions](http://nitin-panwar.github.io/Top-100-Data-science-interview-questions/)\n",
        "\n",
        "[101 Data Science Interview Questions, Answers, and Key Concepts](https://blog.datasciencedojo.com/data-science-interview-questions/)\n",
        "\n",
        "[Top Machine Learning Interview Questions You Must Prepare In 2019](https://www.edureka.co/blog/interview-questions/machine-learning-interview-questions/)\n",
        "\n",
        "\n",
        "[Top 25 Data Science Interview Questions](https://www.javatpoint.com/data-science-interview-questions)\n",
        "\n",
        "\n",
        "[Top 50 Data Science Interview Questions and Answers](https://www.guru99.com/data-science-interview-questions.html)\n",
        "\n",
        "[Top Answers to Artificial Intelligence Interview Questions](https://intellipaat.com/blog/interview-question/artificial-intelligence-interview-questions/)\n",
        "\n",
        "[Top 45 Data Science Interview Questions You Must Prepare In 2019](https://www.edureka.co/blog/interview-questions/data-science-interview-questions/)\n",
        "\n",
        "[100 Data Science Interview Questions and Answers (General) for 2018](https://www.dezyre.com/article/100-data-science-interview-questions-and-answers-general-for-2018/184)\n",
        "\n",
        "[Data Science Interview Questions](https://hackr.io/blog/data-science-interview-questions)\n",
        "\n",
        "\n",
        "[Facebook Data Scientist Interview Questions](https://www.glassdoor.co.in/Interview/Facebook-Data-Scientist-Interview-Questions-EI_IE40772.0,8_KO9,23_IP2.htm?countryRedirect=true)\n",
        "\n",
        "[Microsoft Data Scientist Interview Questions](https://www.glassdoor.co.in/Interview/Microsoft-Data-Scientist-Interview-Questions-EI_IE1651.0,9_KO10,24_IP2.htm?countryRedirect=true)\n",
        "\n",
        "[Data Science and Machine Learning Career](https://github.com/firmai/data-science-career)\n",
        "\n"
      ]
    },
    {
      "cell_type": "markdown",
      "metadata": {
        "id": "v-VpUBmll571",
        "colab_type": "text"
      },
      "source": [
        "# Code Question"
      ]
    },
    {
      "cell_type": "markdown",
      "metadata": {
        "id": "CO4G30fol8Ut",
        "colab_type": "text"
      },
      "source": [
        "## Python"
      ]
    },
    {
      "cell_type": "markdown",
      "metadata": {
        "id": "zKS96sO8nu9Y",
        "colab_type": "text"
      },
      "source": [
        "[40 Questions to test your skill in Python for Data Science](https://www.analyticsvidhya.com/blog/2017/05/questions-python-for-data-science/)\n",
        "\n",
        "[Top 100 Python Interview Questions You Must Prepare In 2019](https://www.edureka.co/blog/interview-questions/python-interview-questions/)\n",
        "\n",
        "[100 Data Science in Python Interview Questions and Answers for 2018](https://www.dezyre.com/article/100-data-science-in-python-interview-questions-and-answers-for-2018/188)\n",
        "\n"
      ]
    },
    {
      "cell_type": "markdown",
      "metadata": {
        "id": "soihL1A2mHBf",
        "colab_type": "text"
      },
      "source": [
        "## ML/DL"
      ]
    },
    {
      "cell_type": "markdown",
      "metadata": {
        "id": "AIsZsMY9mYR2",
        "colab_type": "text"
      },
      "source": [
        "# Case Study Questions"
      ]
    },
    {
      "cell_type": "markdown",
      "metadata": {
        "id": "HMpKLMR_y9Vr",
        "colab_type": "text"
      },
      "source": [
        ""
      ]
    },
    {
      "cell_type": "markdown",
      "metadata": {
        "id": "YzOUrjrQoCzo",
        "colab_type": "text"
      },
      "source": [
        "# Github Projects for Portfolio"
      ]
    },
    {
      "cell_type": "markdown",
      "metadata": {
        "id": "MRHMBG7OoIjA",
        "colab_type": "text"
      },
      "source": [
        "[24 Ultimate Data Science Projects To Boost Your Knowledge and Skills (& can be accessed freely)](https://www.analyticsvidhya.com/blog/2018/05/24-ultimate-data-science-projects-to-boost-your-knowledge-and-skills/)"
      ]
    },
    {
      "cell_type": "markdown",
      "metadata": {
        "id": "BwgU958zzXYj",
        "colab_type": "text"
      },
      "source": [
        "# Resources"
      ]
    },
    {
      "cell_type": "markdown",
      "metadata": {
        "id": "RqkwFlqnp0V_",
        "colab_type": "text"
      },
      "source": [
        "## Code Practice"
      ]
    },
    {
      "cell_type": "markdown",
      "metadata": {
        "id": "PeYOTcYlp2-a",
        "colab_type": "text"
      },
      "source": [
        "[Basic ML Recipe, (Email Required)](https://www.dezyre.com/project/recipe-list)"
      ]
    }
  ]
}
